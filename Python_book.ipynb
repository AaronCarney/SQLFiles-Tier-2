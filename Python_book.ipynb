{
 "cells": [
  {
   "cell_type": "code",
   "execution_count": 29,
   "metadata": {},
   "outputs": [
    {
     "name": "stdout",
     "output_type": "stream",
     "text": [
      "2.6.0\n",
      "2. Query all tasks\n",
      "('Badminton Court', 0, 0, 0, 0, 344, 344, 344, 344, 344, 344, 344, 344)\n",
      "('Massage Room 1', 0, 0, 0, 0, 421, 421, 421, 421, 421, 421, 421, 421)\n",
      "('Massage Room 2', 0, 0, 0, 0, 27, 27, 27, 27, 27, 27, 27, 27)\n",
      "('Pool Table', 0, 0, 0, 0, 783, 783, 783, 783, 783, 783, 783, 783)\n",
      "('Snooker Table', 0, 0, 0, 0, 421, 421, 421, 421, 421, 421, 421, 421)\n",
      "('Squash Court', 0, 0, 0, 0, 195, 195, 195, 195, 195, 195, 195, 195)\n",
      "('Table Tennis', 0, 0, 0, 0, 385, 385, 385, 385, 385, 385, 385, 385)\n",
      "('Tennis Court 1', 0, 0, 0, 0, 308, 308, 308, 308, 308, 308, 308, 308)\n",
      "('Tennis Court 2', 0, 0, 0, 0, 276, 276, 276, 276, 276, 276, 276, 276)\n"
     ]
    }
   ],
   "source": [
    "import sqlite3\n",
    "from sqlite3 import Error\n",
    "\n",
    " \n",
    "def create_connection(db_file):\n",
    "    \"\"\" create a database connection to the SQLite database\n",
    "        specified by the db_file\n",
    "    :param db_file: database file\n",
    "    :return: Connection object or None\n",
    "    \"\"\"\n",
    "    conn = None\n",
    "    try:\n",
    "        conn = sqlite3.connect(db_file)\n",
    "        print(sqlite3.version)\n",
    "    except Error as e:\n",
    "        print(e)\n",
    " \n",
    "    return conn\n",
    "\n",
    " \n",
    "def select_all_tasks(conn):\n",
    "    \"\"\"\n",
    "    Query all rows in the tasks table\n",
    "    :param conn: the Connection object\n",
    "    :return:\n",
    "    \"\"\"\n",
    "    cur = conn.cursor()\n",
    "    \n",
    "    query1 = \"\"\"\n",
    "        SELECT \n",
    "        f.name,\n",
    "        SUM(case when strftime('%m', b.starttime) = 1 then b.slots else 0 end) as Jan,\n",
    "        SUM(case when strftime('%m', b.starttime) = 2 then b.slots else 0 end) as Feb,\n",
    "        SUM(case when strftime('%m', b.starttime) = 3 then b.slots else 0 end) as Mar,\n",
    "        SUM(case when strftime('%m', b.starttime) = 4 then b.slots else 0 end) as Apr,\n",
    "        COUNT(case when strftime('%m', b.starttime) = 5 then b.slots else 0 end) as May,\n",
    "        COUNT(case when strftime('%m', b.starttime) = 6 then b.slots else 0 end) as Jun,\n",
    "        COUNT(case when strftime('%m', b.starttime) = 7 then b.slots else 0 end) as Jul,\n",
    "        COUNT(case when strftime('%m', b.starttime) = 8 then b.slots else 0 end) as Aug,\n",
    "        COUNT(case when strftime('%m', b.starttime) = 9 then b.slots else 0 end) as Sep,\n",
    "        COUNT(case when strftime('%m', b.starttime) = 10 then b.slots else 0 end) as Oct,\n",
    "        COUNT(case when strftime('%m', b.starttime) = 11 then b.slots else 0 end) as Nov,\n",
    "        COUNT(case when strftime('%m', b.starttime) = 12 then b.slots else 0 end) as Dec\n",
    "        FROM Members m\n",
    "        INNER JOIN Bookings b \n",
    "            on b.memid = m.memid\n",
    "        INNER JOIN Facilities f \n",
    "            on f.facid = b.facid\n",
    "        WHERE m.memid > 0\n",
    "        GROUP BY f.name\n",
    "        ORDER BY f.name ;\n",
    "        \n",
    "        \"\"\"\n",
    "    cur.execute(query1)\n",
    " \n",
    "    rows = cur.fetchall()\n",
    " \n",
    "    for row in rows:\n",
    "        print(row)\n",
    "\n",
    "\n",
    "def main():\n",
    "    database = \"sqlite_db_pythonsqlite.db\"\n",
    " \n",
    "    # create a database connection\n",
    "    conn = create_connection(database)\n",
    "    with conn: \n",
    "        print(\"2. Query all tasks\")\n",
    "        select_all_tasks(conn)\n",
    " \n",
    " \n",
    "if __name__ == '__main__':\n",
    "    main()"
   ]
  },
  {
   "cell_type": "markdown",
   "metadata": {},
   "source": [
    "/* Q10: Produce a list of facilities with a total revenue less than 1000.\n",
    "The output of facility name and total revenue, sorted by revenue. Remember\n",
    "that there's a different cost for guests and members! */"
   ]
  },
  {
   "cell_type": "code",
   "execution_count": null,
   "metadata": {},
   "outputs": [],
   "source": []
  },
  {
   "cell_type": "markdown",
   "metadata": {},
   "source": [
    "/* Q11: Produce a report of members and who recommended them in alphabetic surname,firstname order */"
   ]
  },
  {
   "cell_type": "code",
   "execution_count": null,
   "metadata": {},
   "outputs": [],
   "source": []
  },
  {
   "cell_type": "markdown",
   "metadata": {},
   "source": [
    "/* Q12: Find the facilities with their usage by member, but not guests */"
   ]
  },
  {
   "cell_type": "code",
   "execution_count": null,
   "metadata": {},
   "outputs": [],
   "source": []
  },
  {
   "cell_type": "markdown",
   "metadata": {},
   "source": [
    "/* Q13: Find the facilities usage by month, but not guests */"
   ]
  },
  {
   "cell_type": "code",
   "execution_count": null,
   "metadata": {},
   "outputs": [],
   "source": []
  }
 ],
 "metadata": {
  "kernelspec": {
   "display_name": "Python 3",
   "language": "python",
   "name": "python3"
  },
  "language_info": {
   "codemirror_mode": {
    "name": "ipython",
    "version": 3
   },
   "file_extension": ".py",
   "mimetype": "text/x-python",
   "name": "python",
   "nbconvert_exporter": "python",
   "pygments_lexer": "ipython3",
   "version": "3.7.9"
  }
 },
 "nbformat": 4,
 "nbformat_minor": 4
}
